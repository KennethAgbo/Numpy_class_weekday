{
 "cells": [
  {
   "cell_type": "markdown",
   "id": "a257ba5f",
   "metadata": {},
   "source": [
    "# NumPy In Python:\n",
    "- differentiate between list and array"
   ]
  },
  {
   "cell_type": "code",
   "execution_count": 2,
   "id": "40f14fab",
   "metadata": {},
   "outputs": [],
   "source": [
    "import numpy as np"
   ]
  },
  {
   "cell_type": "markdown",
   "id": "af7ab1b4",
   "metadata": {},
   "source": [
    "# Creation of NumPy array \n",
    "- syntax\n",
    "- np.array(object,ndmin,dtype)\n",
    "- object: list/tuple\n",
    "- ndmin: minimum number of dimension\n",
    "- dtype: int,float, complex"
   ]
  },
  {
   "cell_type": "code",
   "execution_count": 4,
   "id": "9204d8e2",
   "metadata": {},
   "outputs": [
    {
     "name": "stdout",
     "output_type": "stream",
     "text": [
      "[7 8 9]\n"
     ]
    }
   ],
   "source": [
    "list1 = [7,8,9]\n",
    "arr = np.array(list1)\n",
    "print(arr)"
   ]
  },
  {
   "cell_type": "code",
   "execution_count": 5,
   "id": "bf56c1d9",
   "metadata": {},
   "outputs": [
    {
     "data": {
      "text/plain": [
       "numpy.ndarray"
      ]
     },
     "execution_count": 5,
     "metadata": {},
     "output_type": "execute_result"
    }
   ],
   "source": [
    "type(arr)"
   ]
  },
  {
   "cell_type": "code",
   "execution_count": 6,
   "id": "5f3a063a",
   "metadata": {},
   "outputs": [
    {
     "name": "stdout",
     "output_type": "stream",
     "text": [
      "[23 25 27 30]\n"
     ]
    }
   ],
   "source": [
    "# Creation of one dimensional array\n",
    "x = [23,25,27,30]\n",
    "arr = np.array(x)\n",
    "print(arr)"
   ]
  },
  {
   "cell_type": "code",
   "execution_count": 7,
   "id": "4ac2b0ee",
   "metadata": {},
   "outputs": [
    {
     "name": "stdout",
     "output_type": "stream",
     "text": [
      "[[ 5  6 10 13 14]]\n"
     ]
    }
   ],
   "source": [
    "# Create  two dimensional array from one-dimensional list\n",
    "import numpy as np\n",
    "list2 = [5,6,10,13,14]\n",
    "arr = np.array(list2,ndmin = 2,dtype = int)\n",
    "print(arr)"
   ]
  },
  {
   "cell_type": "code",
   "execution_count": 8,
   "id": "4e77939b",
   "metadata": {},
   "outputs": [
    {
     "name": "stdout",
     "output_type": "stream",
     "text": [
      "2\n"
     ]
    }
   ],
   "source": [
    "# To check for the number of dimension, use: ndim\n",
    "\n",
    "print(arr.ndim)"
   ]
  },
  {
   "cell_type": "code",
   "execution_count": 10,
   "id": "8a7d958c",
   "metadata": {},
   "outputs": [
    {
     "name": "stdout",
     "output_type": "stream",
     "text": [
      "[[[20.+0.j 24.+0.j 25.+0.j 26.+0.j 27.+0.j]]]\n"
     ]
    }
   ],
   "source": [
    "# From 1 dimensional list, create for 3 dimensional array\n",
    "userAge = [20,24,25,26,27]\n",
    "arr = np.array(userAge, ndmin = 3, dtype = complex)\n",
    "print(arr)"
   ]
  },
  {
   "cell_type": "code",
   "execution_count": 11,
   "id": "c66f7896",
   "metadata": {},
   "outputs": [
    {
     "name": "stdout",
     "output_type": "stream",
     "text": [
      "[[[201, 202, 203, 204]]]\n"
     ]
    }
   ],
   "source": [
    "userId = [[[201,202,203,204]]] # Three dimensional list\n",
    "print(userId)"
   ]
  },
  {
   "cell_type": "code",
   "execution_count": 12,
   "id": "8ad216aa",
   "metadata": {},
   "outputs": [
    {
     "name": "stdout",
     "output_type": "stream",
     "text": [
      "[[[201 202 203 204]]]\n"
     ]
    }
   ],
   "source": [
    "# Create a three dimensional array from userId\n",
    "arr1 = np.array(userId)\n",
    "print(arr1)"
   ]
  },
  {
   "cell_type": "code",
   "execution_count": 13,
   "id": "1e1b1f80",
   "metadata": {},
   "outputs": [
    {
     "name": "stdout",
     "output_type": "stream",
     "text": [
      "3\n"
     ]
    }
   ],
   "source": [
    "print(arr1.ndim)"
   ]
  },
  {
   "cell_type": "code",
   "execution_count": 15,
   "id": "fd6a2e70",
   "metadata": {},
   "outputs": [
    {
     "name": "stdout",
     "output_type": "stream",
     "text": [
      "[30 32 33 34 35]\n"
     ]
    }
   ],
   "source": [
    "# Create a one dimensional array from a three dimensional list\n",
    "userAge = [[[30,32,33,34,35]]]\n",
    "arr = np.array(userAge).flatten()\n",
    "print(arr)"
   ]
  },
  {
   "cell_type": "code",
   "execution_count": 16,
   "id": "928e9749",
   "metadata": {},
   "outputs": [
    {
     "name": "stdout",
     "output_type": "stream",
     "text": [
      "1\n"
     ]
    }
   ],
   "source": [
    "print(arr.ndim)"
   ]
  },
  {
   "cell_type": "code",
   "execution_count": 18,
   "id": "97b73519",
   "metadata": {},
   "outputs": [],
   "source": [
    "# Mathematical functions in NumPy array\n",
    "list1 = [3,5,6,7]\n"
   ]
  },
  {
   "cell_type": "code",
   "execution_count": 19,
   "id": "e457eb87",
   "metadata": {},
   "outputs": [
    {
     "name": "stdout",
     "output_type": "stream",
     "text": [
      "30\n",
      "50\n",
      "60\n",
      "70\n"
     ]
    }
   ],
   "source": [
    "for i in list1:\n",
    "    print(i*10)"
   ]
  },
  {
   "cell_type": "code",
   "execution_count": 20,
   "id": "11d3d2c6",
   "metadata": {},
   "outputs": [
    {
     "data": {
      "text/plain": [
       "array([30, 50, 60, 70])"
      ]
     },
     "execution_count": 20,
     "metadata": {},
     "output_type": "execute_result"
    }
   ],
   "source": [
    "arr = np.array(list1)\n",
    "arr*10"
   ]
  },
  {
   "cell_type": "code",
   "execution_count": 21,
   "id": "1450139b",
   "metadata": {},
   "outputs": [
    {
     "data": {
      "text/plain": [
       "array([100, 110, 115, 120, 125])"
      ]
     },
     "execution_count": 21,
     "metadata": {},
     "output_type": "execute_result"
    }
   ],
   "source": [
    "# create an array and multiple it by 5 from the list below\n",
    "studentsId = [20,22,23,24,25]\n",
    "arr2 = np.array(studentsId)\n",
    "arr2*5"
   ]
  },
  {
   "cell_type": "markdown",
   "id": "c7a0f6ae",
   "metadata": {},
   "source": [
    "# Routines in NumPy array\n",
    "- np.zeros \n",
    "- syntax: np.array(shape,dtype)\n",
    "- np.ones"
   ]
  },
  {
   "cell_type": "code",
   "execution_count": 23,
   "id": "95090a8f",
   "metadata": {},
   "outputs": [
    {
     "name": "stdout",
     "output_type": "stream",
     "text": [
      "[0. 0.]\n"
     ]
    }
   ],
   "source": [
    "arr = np.zeros(2)\n",
    "print(arr)\n"
   ]
  },
  {
   "cell_type": "code",
   "execution_count": 24,
   "id": "fa68fb9e",
   "metadata": {},
   "outputs": [
    {
     "data": {
      "text/plain": [
       "array([[0., 0., 0.],\n",
       "       [0., 0., 0.]])"
      ]
     },
     "execution_count": 24,
     "metadata": {},
     "output_type": "execute_result"
    }
   ],
   "source": [
    "# Creation of array of 2-rows and 3-columns\n",
    "arr2 = np.zeros([2,3])\n",
    "arr2"
   ]
  },
  {
   "cell_type": "code",
   "execution_count": 25,
   "id": "35c8ae24",
   "metadata": {},
   "outputs": [
    {
     "name": "stdout",
     "output_type": "stream",
     "text": [
      "2\n"
     ]
    }
   ],
   "source": [
    "print(arr2.ndim)"
   ]
  },
  {
   "cell_type": "code",
   "execution_count": 26,
   "id": "4b4f98be",
   "metadata": {},
   "outputs": [
    {
     "data": {
      "text/plain": [
       "array([[[0., 0., 0., 0., 0.],\n",
       "        [0., 0., 0., 0., 0.]],\n",
       "\n",
       "       [[0., 0., 0., 0., 0.],\n",
       "        [0., 0., 0., 0., 0.]],\n",
       "\n",
       "       [[0., 0., 0., 0., 0.],\n",
       "        [0., 0., 0., 0., 0.]]])"
      ]
     },
     "execution_count": 26,
     "metadata": {},
     "output_type": "execute_result"
    }
   ],
   "source": [
    "# Array of 3 dimensions with 2-rows and 5-columns. it also have 3-appearance\n",
    "arr = np.zeros([3,2,5])\n",
    "arr"
   ]
  },
  {
   "cell_type": "code",
   "execution_count": 27,
   "id": "1d860754",
   "metadata": {},
   "outputs": [
    {
     "data": {
      "text/plain": [
       "array([[[0., 0., 0.],\n",
       "        [0., 0., 0.],\n",
       "        [0., 0., 0.]],\n",
       "\n",
       "       [[0., 0., 0.],\n",
       "        [0., 0., 0.],\n",
       "        [0., 0., 0.]],\n",
       "\n",
       "       [[0., 0., 0.],\n",
       "        [0., 0., 0.],\n",
       "        [0., 0., 0.]],\n",
       "\n",
       "       [[0., 0., 0.],\n",
       "        [0., 0., 0.],\n",
       "        [0., 0., 0.]]])"
      ]
     },
     "execution_count": 27,
     "metadata": {},
     "output_type": "execute_result"
    }
   ],
   "source": [
    "# Create a routine array of zeros having 4-appearance, 3-rows and 3-columns\n",
    "arr3 = np.zeros([4,3,3])\n",
    "arr3"
   ]
  },
  {
   "cell_type": "code",
   "execution_count": 28,
   "id": "e2a1276e",
   "metadata": {},
   "outputs": [
    {
     "data": {
      "text/plain": [
       "array([1., 1., 1., 1., 1.])"
      ]
     },
     "execution_count": 28,
     "metadata": {},
     "output_type": "execute_result"
    }
   ],
   "source": [
    "arr1 = np.ones(5)\n",
    "arr1"
   ]
  },
  {
   "cell_type": "code",
   "execution_count": 29,
   "id": "1831ef97",
   "metadata": {},
   "outputs": [
    {
     "data": {
      "text/plain": [
       "array([[[1., 1., 1., 1.],\n",
       "        [1., 1., 1., 1.],\n",
       "        [1., 1., 1., 1.]],\n",
       "\n",
       "       [[1., 1., 1., 1.],\n",
       "        [1., 1., 1., 1.],\n",
       "        [1., 1., 1., 1.]]])"
      ]
     },
     "execution_count": 29,
     "metadata": {},
     "output_type": "execute_result"
    }
   ],
   "source": [
    "arr2 = np.ones([2,3,4])\n",
    "arr2"
   ]
  },
  {
   "cell_type": "code",
   "execution_count": 30,
   "id": "ff501dfc",
   "metadata": {},
   "outputs": [
    {
     "data": {
      "text/plain": [
       "array([[[1., 1., 1.],\n",
       "        [1., 1., 1.],\n",
       "        [1., 1., 1.]],\n",
       "\n",
       "       [[1., 1., 1.],\n",
       "        [1., 1., 1.],\n",
       "        [1., 1., 1.]]])"
      ]
     },
     "execution_count": 30,
     "metadata": {},
     "output_type": "execute_result"
    }
   ],
   "source": [
    "# Create a routine arrays of ones with 3-dimensional arrays, and it has the same number of rows and columns\n",
    "arr2 = np.ones([2,3,3])\n",
    "arr2"
   ]
  },
  {
   "cell_type": "markdown",
   "id": "4fa7b8df",
   "metadata": {},
   "source": [
    "# NumPy from Ranges\n",
    "- syntax= numpy.arange(start,stop,step,dtype)"
   ]
  },
  {
   "cell_type": "code",
   "execution_count": 31,
   "id": "9c0e18e4",
   "metadata": {},
   "outputs": [
    {
     "name": "stdout",
     "output_type": "stream",
     "text": [
      "2\n",
      "3\n",
      "4\n",
      "5\n",
      "6\n",
      "7\n",
      "8\n"
     ]
    }
   ],
   "source": [
    "for number in range(2,9):\n",
    "    print(number)"
   ]
  },
  {
   "cell_type": "code",
   "execution_count": 32,
   "id": "f0b1ea2a",
   "metadata": {},
   "outputs": [
    {
     "name": "stdout",
     "output_type": "stream",
     "text": [
      "[0 1 2 3 4]\n"
     ]
    }
   ],
   "source": [
    "x = np.arange(5)\n",
    "print(x)"
   ]
  },
  {
   "cell_type": "code",
   "execution_count": 33,
   "id": "f902ab95",
   "metadata": {},
   "outputs": [
    {
     "name": "stdout",
     "output_type": "stream",
     "text": [
      "[0 1 2 3 4 5]\n"
     ]
    }
   ],
   "source": [
    "# Create a numpy from range starting from zero to 5\n",
    "arr3 = np.arange(0,6)\n",
    "print(arr3)"
   ]
  },
  {
   "cell_type": "code",
   "execution_count": 34,
   "id": "c6805462",
   "metadata": {},
   "outputs": [
    {
     "name": "stdout",
     "output_type": "stream",
     "text": [
      "[0 1 2 3 4 5]\n"
     ]
    }
   ],
   "source": [
    "arr4 = np.arange(6)\n",
    "print(arr4)"
   ]
  },
  {
   "cell_type": "code",
   "execution_count": 35,
   "id": "2ad319f1",
   "metadata": {},
   "outputs": [
    {
     "name": "stdout",
     "output_type": "stream",
     "text": [
      "[10 14 18]\n"
     ]
    }
   ],
   "source": [
    "y = np.arange(10,20,4,dtype =int)\n",
    "print(y)"
   ]
  },
  {
   "cell_type": "code",
   "execution_count": 36,
   "id": "36bd5798",
   "metadata": {},
   "outputs": [
    {
     "name": "stdout",
     "output_type": "stream",
     "text": [
      "[  0   6  12  18  24  30  36  42  48  54  60  66  72  78  84  90  96 102\n",
      " 108 114 120 126 132 138 144 150 156 162 168 174 180 186 192 198]\n"
     ]
    }
   ],
   "source": [
    "x = np.arange(0,200,6,dtype = int)\n",
    "print(x)\n"
   ]
  },
  {
   "cell_type": "code",
   "execution_count": 1,
   "id": "e9f2f974",
   "metadata": {},
   "outputs": [],
   "source": [
    "# create a numpy from range that starts from 12 to 50"
   ]
  },
  {
   "cell_type": "markdown",
   "id": "00251098",
   "metadata": {},
   "source": [
    "# Numpy.linspace\n",
    "- syntax \n",
    "- np.linspace(start,stop,num,endpoint,retstep,dtype)\n"
   ]
  },
  {
   "cell_type": "code",
   "execution_count": 3,
   "id": "80f594a6",
   "metadata": {},
   "outputs": [
    {
     "name": "stdout",
     "output_type": "stream",
     "text": [
      "[ 2.   6.6 11.2 15.8 20.4]\n"
     ]
    }
   ],
   "source": [
    "# Examples\n",
    "import numpy as np\n",
    "arr = np.linspace(2,25,num = 5, endpoint = False)\n",
    "print(arr)"
   ]
  },
  {
   "cell_type": "code",
   "execution_count": 5,
   "id": "9358c421",
   "metadata": {},
   "outputs": [
    {
     "name": "stdout",
     "output_type": "stream",
     "text": [
      "[ 5. 20. 35. 50.]\n"
     ]
    }
   ],
   "source": [
    "arr2 = np.linspace(5,50, num = 4, endpoint = True)\n",
    "print(arr2)"
   ]
  },
  {
   "cell_type": "code",
   "execution_count": 7,
   "id": "0ff855ba",
   "metadata": {},
   "outputs": [
    {
     "name": "stdout",
     "output_type": "stream",
     "text": [
      "[ 0.  5. 10. 15. 20. 25.]\n"
     ]
    }
   ],
   "source": [
    "x = np.linspace(0,30,num = 6, endpoint = False, retstep = False)\n",
    "print(x)"
   ]
  },
  {
   "cell_type": "code",
   "execution_count": 9,
   "id": "5b3a8072",
   "metadata": {},
   "outputs": [
    {
     "name": "stdout",
     "output_type": "stream",
     "text": [
      "[ 5.          9.88888889 14.77777778 19.66666667 24.55555556 29.44444444\n",
      " 34.33333333 39.22222222 44.11111111 49.        ]\n",
      "The step difference is: 4.888888888888889\n"
     ]
    }
   ],
   "source": [
    "arr,step = np.linspace(5,49, num = 10, retstep = True)\n",
    "print(arr)\n",
    "print(\"The step difference is:\",step)\n"
   ]
  },
  {
   "cell_type": "code",
   "execution_count": 10,
   "id": "3098f9ed",
   "metadata": {},
   "outputs": [
    {
     "name": "stdout",
     "output_type": "stream",
     "text": [
      "[ 2.  4.  6.  8. 10. 12. 14. 16. 18. 20.]\n",
      "The step difference is: 2.0\n"
     ]
    }
   ],
   "source": [
    "y,step = np.linspace(2,20,num = 10, endpoint = True, retstep = True)\n",
    "print(y)\n",
    "print(\"The step difference is:\", step)\n"
   ]
  },
  {
   "cell_type": "markdown",
   "id": "93a2fb02",
   "metadata": {},
   "source": [
    "# NumPy- Arithmetics Operation\n",
    "- addition\n",
    "- subtraction\n",
    "- multiplication\n",
    "- divide\n"
   ]
  },
  {
   "cell_type": "code",
   "execution_count": 17,
   "id": "7c39df83",
   "metadata": {},
   "outputs": [
    {
     "name": "stdout",
     "output_type": "stream",
     "text": [
      "[ 7  9 11]\n"
     ]
    }
   ],
   "source": [
    "# Example of addition\n",
    "a = [2,3,4]\n",
    "b = [5,6,7]\n",
    "arr1 = np.array(a)\n",
    "arr2 = np.array(b)\n",
    "output = np.add(arr1,arr2)\n",
    "print(output)"
   ]
  },
  {
   "cell_type": "code",
   "execution_count": 18,
   "id": "5b3e3998",
   "metadata": {},
   "outputs": [
    {
     "name": "stdout",
     "output_type": "stream",
     "text": [
      "[ 7  9 11]\n"
     ]
    }
   ],
   "source": [
    "output = arr1 + arr2\n",
    "print(output)"
   ]
  },
  {
   "cell_type": "code",
   "execution_count": 20,
   "id": "db8aa9aa",
   "metadata": {},
   "outputs": [
    {
     "name": "stdout",
     "output_type": "stream",
     "text": [
      "[ 33  62 148]\n"
     ]
    }
   ],
   "source": [
    "# Find the summation of the following Numpy array below\n",
    "x = [20,30,49]\n",
    "y = [13,32,99]\n",
    "arr1 = np.array(x)\n",
    "arr2 = np.array(y)\n",
    "output = arr1 + arr2\n",
    "print(output)\n"
   ]
  },
  {
   "cell_type": "code",
   "execution_count": 21,
   "id": "6f1620a7",
   "metadata": {},
   "outputs": [
    {
     "name": "stdout",
     "output_type": "stream",
     "text": [
      "[5 5 5]\n"
     ]
    }
   ],
   "source": [
    "# Subtraction\n",
    "a = [20,35,50]\n",
    "b = [15,30,45]\n",
    "arr3 = np.array(a)\n",
    "arr4 = np.array(b)\n",
    "output = np.subtract(arr3,arr4)\n",
    "print(output)"
   ]
  },
  {
   "cell_type": "code",
   "execution_count": 22,
   "id": "16c5d4bf",
   "metadata": {},
   "outputs": [
    {
     "name": "stdout",
     "output_type": "stream",
     "text": [
      "[-5 -5 -5]\n"
     ]
    }
   ],
   "source": [
    "output = arr4 -arr3\n",
    "print(output)"
   ]
  },
  {
   "cell_type": "code",
   "execution_count": 23,
   "id": "a4f8b0a6",
   "metadata": {},
   "outputs": [
    {
     "name": "stdout",
     "output_type": "stream",
     "text": [
      "[ 10   4 -12]\n"
     ]
    }
   ],
   "source": [
    "# Create a numpy array using list x and y, subract array created from list y from that created from listx\n",
    "x = [17,19,23]\n",
    "y = [27,23,11]\n",
    "arr2 = np.array(x)\n",
    "arr3 = np.array(y)\n",
    "output = np.subtract(arr3,arr2)\n",
    "print(output)"
   ]
  },
  {
   "cell_type": "code",
   "execution_count": 24,
   "id": "507753bc",
   "metadata": {},
   "outputs": [
    {
     "name": "stdout",
     "output_type": "stream",
     "text": [
      "[ 6  8 12]\n"
     ]
    }
   ],
   "source": [
    "# multiplication\n",
    "a = [3,4,6]\n",
    "b = [2,2,2]\n",
    "arr1 = np.array(a)\n",
    "arr2 = np.array(b)\n",
    "output = np.multiply(arr1,arr2)\n",
    "print(output)"
   ]
  },
  {
   "cell_type": "code",
   "execution_count": 25,
   "id": "19e027f5",
   "metadata": {},
   "outputs": [
    {
     "name": "stdout",
     "output_type": "stream",
     "text": [
      "[ 6  8 12]\n"
     ]
    }
   ],
   "source": [
    "output = arr1*arr2\n",
    "print(output)"
   ]
  },
  {
   "cell_type": "code",
   "execution_count": 26,
   "id": "087e571d",
   "metadata": {},
   "outputs": [
    {
     "name": "stdout",
     "output_type": "stream",
     "text": [
      "[2.         4.         9.66666667]\n"
     ]
    }
   ],
   "source": [
    "# Division in numpy array\n",
    "c = [4,16,29]\n",
    "d = [2,4,3]\n",
    "arr5 = np.array(c)\n",
    "arr6 = np.array(d)\n",
    "output = np.divide(arr5,arr6)\n",
    "print(output)"
   ]
  },
  {
   "cell_type": "code",
   "execution_count": 27,
   "id": "9eb8638c",
   "metadata": {},
   "outputs": [
    {
     "name": "stdout",
     "output_type": "stream",
     "text": [
      "[2.         4.         9.66666667]\n"
     ]
    }
   ],
   "source": [
    "output = arr5/arr6\n",
    "print(output)"
   ]
  },
  {
   "cell_type": "code",
   "execution_count": 28,
   "id": "4d68bdb9",
   "metadata": {},
   "outputs": [
    {
     "name": "stdout",
     "output_type": "stream",
     "text": [
      "[0.46       0.5        0.31578947]\n"
     ]
    }
   ],
   "source": [
    "# create an array from the list below and divide the two arrays\n",
    "list1 = [50,60,76]\n",
    "list2 = [23,30,24]\n",
    "arr2 = np.array(list1)\n",
    "arr3 = np.array(list2)\n",
    "output = np.divide(arr3,arr2)\n",
    "print(output)"
   ]
  },
  {
   "cell_type": "code",
   "execution_count": 29,
   "id": "aa8bb32c",
   "metadata": {},
   "outputs": [
    {
     "name": "stdout",
     "output_type": "stream",
     "text": [
      "[2.17391304 2.         3.16666667]\n"
     ]
    }
   ],
   "source": [
    "output = arr2/arr3\n",
    "print(output)"
   ]
  },
  {
   "cell_type": "code",
   "execution_count": 30,
   "id": "5a2bed15",
   "metadata": {},
   "outputs": [
    {
     "name": "stdout",
     "output_type": "stream",
     "text": [
      "[  4 243 256]\n"
     ]
    }
   ],
   "source": [
    "# Exponentiation in numpy\n",
    "x = [2,3,4]\n",
    "y = [2,5,4]\n",
    "arr1 = np.array(x)\n",
    "arr2 = np.array(y)\n",
    "output = np.power(arr1,arr2)\n",
    "print(output)"
   ]
  },
  {
   "cell_type": "code",
   "execution_count": 31,
   "id": "52e1001e",
   "metadata": {},
   "outputs": [
    {
     "name": "stdout",
     "output_type": "stream",
     "text": [
      "[  4 243 256]\n"
     ]
    }
   ],
   "source": [
    "output = arr1**arr2\n",
    "print(output)"
   ]
  },
  {
   "cell_type": "code",
   "execution_count": 32,
   "id": "e7fd27ca",
   "metadata": {},
   "outputs": [
    {
     "name": "stdout",
     "output_type": "stream",
     "text": [
      "[1 1 2]\n"
     ]
    }
   ],
   "source": [
    "# Modulus operation in NumPy array\n",
    "a = [4,9,12]\n",
    "b = [3,2,5]\n",
    "arr3 = np.array(a)\n",
    "arr4 = np.array(b)\n",
    "output =np.mod(arr3,arr4)\n",
    "print(output)"
   ]
  },
  {
   "cell_type": "code",
   "execution_count": 33,
   "id": "b6204f4f",
   "metadata": {},
   "outputs": [
    {
     "name": "stdout",
     "output_type": "stream",
     "text": [
      "[1 1 2]\n"
     ]
    }
   ],
   "source": [
    "output = arr3%arr4\n",
    "print(output)"
   ]
  },
  {
   "cell_type": "code",
   "execution_count": 34,
   "id": "795884b7",
   "metadata": {},
   "outputs": [
    {
     "name": "stdout",
     "output_type": "stream",
     "text": [
      "[ 2  9 30]\n"
     ]
    }
   ],
   "source": [
    "# Floor division\n",
    "a = [30,45,61]\n",
    "b = [11,5,2]\n",
    "arr1 = np.array(a)\n",
    "arr2 = np.array(b)\n",
    "output = np.floor_divide(arr1,arr2)\n",
    "print(output)"
   ]
  },
  {
   "cell_type": "code",
   "execution_count": 35,
   "id": "c4551e2a",
   "metadata": {},
   "outputs": [
    {
     "name": "stdout",
     "output_type": "stream",
     "text": [
      "[ 2  9 30]\n"
     ]
    }
   ],
   "source": [
    "output = arr1//arr2\n",
    "print(output)"
   ]
  },
  {
   "cell_type": "code",
   "execution_count": 36,
   "id": "75fb68bc",
   "metadata": {},
   "outputs": [
    {
     "name": "stdout",
     "output_type": "stream",
     "text": [
      "[2 1 5]\n"
     ]
    }
   ],
   "source": [
    "# Create numpy array from the lists below. Then apply modulus and floor division respectively\n",
    "list1 = [12,17,18]\n",
    "list2 = [5,8,13]\n",
    "arr2 = np.array(list1)\n",
    "arr3 = np.array(list2)\n",
    "output = np.mod(arr2,arr3)\n",
    "print(output)"
   ]
  },
  {
   "cell_type": "code",
   "execution_count": 37,
   "id": "5139a207",
   "metadata": {},
   "outputs": [
    {
     "name": "stdout",
     "output_type": "stream",
     "text": [
      "[2 2 1]\n"
     ]
    }
   ],
   "source": [
    "output = arr2//arr3\n",
    "print(output)"
   ]
  },
  {
   "cell_type": "code",
   "execution_count": 38,
   "id": "8b5b909e",
   "metadata": {},
   "outputs": [
    {
     "name": "stdout",
     "output_type": "stream",
     "text": [
      "[2 3 4]\n"
     ]
    }
   ],
   "source": [
    "# Shape\n",
    "g = [2,3,4]\n",
    "arr = np.array(g)\n",
    "print(arr)"
   ]
  },
  {
   "cell_type": "code",
   "execution_count": 39,
   "id": "b8762d1f",
   "metadata": {},
   "outputs": [
    {
     "data": {
      "text/plain": [
       "(3,)"
      ]
     },
     "execution_count": 39,
     "metadata": {},
     "output_type": "execute_result"
    }
   ],
   "source": [
    "arr.shape"
   ]
  },
  {
   "cell_type": "code",
   "execution_count": 40,
   "id": "d9d4ec61",
   "metadata": {},
   "outputs": [
    {
     "name": "stdout",
     "output_type": "stream",
     "text": [
      "[[2 3 4 5]\n",
      " [6 7 8 9]]\n"
     ]
    }
   ],
   "source": [
    "list1 = [[2,3,4,5],[6,7,8,9]]\n",
    "arr2 = np.array(list1)\n",
    "print(arr2)"
   ]
  },
  {
   "cell_type": "code",
   "execution_count": 41,
   "id": "4107dc52",
   "metadata": {},
   "outputs": [
    {
     "data": {
      "text/plain": [
       "(2, 4)"
      ]
     },
     "execution_count": 41,
     "metadata": {},
     "output_type": "execute_result"
    }
   ],
   "source": [
    "arr2.shape"
   ]
  },
  {
   "cell_type": "code",
   "execution_count": 43,
   "id": "5b1cb764",
   "metadata": {},
   "outputs": [
    {
     "name": "stdout",
     "output_type": "stream",
     "text": [
      "[1 2 4 5 6 7 8 9]\n"
     ]
    }
   ],
   "source": [
    "# Reshape function\n",
    "a = [1,2,4,5,6,7,8,9]\n",
    "arr = np.array(a)\n",
    "print(arr)"
   ]
  },
  {
   "cell_type": "code",
   "execution_count": 44,
   "id": "5fb6c945",
   "metadata": {},
   "outputs": [
    {
     "data": {
      "text/plain": [
       "array([[1, 2, 4, 5],\n",
       "       [6, 7, 8, 9]])"
      ]
     },
     "execution_count": 44,
     "metadata": {},
     "output_type": "execute_result"
    }
   ],
   "source": [
    "arr.reshape(2,4)"
   ]
  },
  {
   "cell_type": "code",
   "execution_count": 45,
   "id": "cfa4a85a",
   "metadata": {},
   "outputs": [
    {
     "name": "stdout",
     "output_type": "stream",
     "text": [
      "[0 1 2 3 4 5 6 7 8 9]\n"
     ]
    }
   ],
   "source": [
    "y = np.arange(10)\n",
    "print(y)"
   ]
  },
  {
   "cell_type": "code",
   "execution_count": 46,
   "id": "0ba624e6",
   "metadata": {},
   "outputs": [
    {
     "name": "stdout",
     "output_type": "stream",
     "text": [
      "[[0 1 2 3 4]\n",
      " [5 6 7 8 9]]\n"
     ]
    }
   ],
   "source": [
    "output = np.reshape(y,(2,5))\n",
    "print(output)"
   ]
  },
  {
   "cell_type": "code",
   "execution_count": 47,
   "id": "71c043a5",
   "metadata": {},
   "outputs": [
    {
     "name": "stdout",
     "output_type": "stream",
     "text": [
      "[3 4 5 7 8 9 1 7 9]\n"
     ]
    }
   ],
   "source": [
    "# Append function or append ()\n",
    "a = [[3,4,5],[7,8,9]]\n",
    "b = [1,7,9]\n",
    "arr1 = np.array(a)\n",
    "arr2 = np.array(b)\n",
    "output = np.append(arr1,arr2)\n",
    "print(output)"
   ]
  },
  {
   "cell_type": "code",
   "execution_count": 48,
   "id": "2b1dd096",
   "metadata": {},
   "outputs": [
    {
     "name": "stdout",
     "output_type": "stream",
     "text": [
      "[ 3  4  6  7  8  9 10 11 12]\n"
     ]
    }
   ],
   "source": [
    "# From the list below, create arrays and add it to the end\n",
    "list2 = [3,4,6]\n",
    "list3 = [[7,8,9],[10,11,12]]\n",
    "arr1 = np.array(list2)\n",
    "arr2 = np.array(list3)\n",
    "output = np.append(arr1,arr2)\n",
    "print(output)"
   ]
  },
  {
   "cell_type": "code",
   "execution_count": 49,
   "id": "550f3138",
   "metadata": {},
   "outputs": [
    {
     "name": "stdout",
     "output_type": "stream",
     "text": [
      "[0 1 2 3 4 5 6 7 8 9]\n"
     ]
    }
   ],
   "source": [
    "# Indexing and slicing in NumPy\n",
    "a = np.arange(10)\n",
    "print(a)"
   ]
  },
  {
   "cell_type": "code",
   "execution_count": 50,
   "id": "13bd7048",
   "metadata": {},
   "outputs": [
    {
     "name": "stdout",
     "output_type": "stream",
     "text": [
      "4\n"
     ]
    }
   ],
   "source": [
    "y = a[4]\n",
    "print(y)"
   ]
  },
  {
   "cell_type": "code",
   "execution_count": 52,
   "id": "1d3fb0a8",
   "metadata": {},
   "outputs": [
    {
     "name": "stdout",
     "output_type": "stream",
     "text": [
      "[[10 12 13 14]\n",
      " [ 6  7  8  9]\n",
      " [11 15 17 19]]\n"
     ]
    }
   ],
   "source": [
    "# From the array(arr), fetch out, [6,7,8,9]\n",
    "list1 = [[10,12,13,14],[6,7,8,9],[11,15,17,19]]\n",
    "arr = np.array(list1)\n",
    "print(arr)"
   ]
  },
  {
   "cell_type": "code",
   "execution_count": 53,
   "id": "16c255e9",
   "metadata": {},
   "outputs": [
    {
     "name": "stdout",
     "output_type": "stream",
     "text": [
      "[6 7 8 9]\n"
     ]
    }
   ],
   "source": [
    "output = arr[1]\n",
    "print(output)"
   ]
  },
  {
   "cell_type": "code",
   "execution_count": 54,
   "id": "c68efc4a",
   "metadata": {},
   "outputs": [
    {
     "name": "stdout",
     "output_type": "stream",
     "text": [
      "[ 5  9 13 17 21 25 29 33 37]\n"
     ]
    }
   ],
   "source": [
    "# Retrieve the value in index number 3\n",
    "b = np.arange(5,40,4)\n",
    "print(b)"
   ]
  },
  {
   "cell_type": "code",
   "execution_count": 57,
   "id": "7f7a02ab",
   "metadata": {},
   "outputs": [
    {
     "name": "stdout",
     "output_type": "stream",
     "text": [
      "17\n"
     ]
    }
   ],
   "source": [
    "output =b[3]\n",
    "print(output)"
   ]
  },
  {
   "cell_type": "code",
   "execution_count": 58,
   "id": "e2bef6d5",
   "metadata": {},
   "outputs": [
    {
     "name": "stdout",
     "output_type": "stream",
     "text": [
      "[ 2  7 12 17 22 27 32 37 42 47]\n"
     ]
    }
   ],
   "source": [
    "# fetch out the following numbers, 17,22,27,32,37\n",
    "x = np.arange(2,50,5)\n",
    "print(x)"
   ]
  },
  {
   "cell_type": "code",
   "execution_count": 59,
   "id": "1fb47de4",
   "metadata": {},
   "outputs": [
    {
     "name": "stdout",
     "output_type": "stream",
     "text": [
      "[17 22 27 32 37]\n"
     ]
    }
   ],
   "source": [
    "output = x[3:8]\n",
    "print(output)"
   ]
  },
  {
   "cell_type": "code",
   "execution_count": 60,
   "id": "2113154d",
   "metadata": {},
   "outputs": [
    {
     "data": {
      "text/plain": [
       "array([22, 27, 32, 37])"
      ]
     },
     "execution_count": 60,
     "metadata": {},
     "output_type": "execute_result"
    }
   ],
   "source": [
    "output[output>=22]"
   ]
  },
  {
   "cell_type": "code",
   "execution_count": 61,
   "id": "1847d10c",
   "metadata": {},
   "outputs": [
    {
     "name": "stdout",
     "output_type": "stream",
     "text": [
      "[[ 6  7  8]\n",
      " [ 9 10 11]\n",
      " [12 13 14]]\n"
     ]
    }
   ],
   "source": [
    "# Filtering in Numpy\n",
    "a = [[6,7,8],[9,10,11],[12,13,14]]\n",
    "arr = np.array(a)\n",
    "print(arr)"
   ]
  },
  {
   "cell_type": "code",
   "execution_count": 62,
   "id": "0d3f7d79",
   "metadata": {},
   "outputs": [
    {
     "data": {
      "text/plain": [
       "array([ 6,  7,  8,  9, 10])"
      ]
     },
     "execution_count": 62,
     "metadata": {},
     "output_type": "execute_result"
    }
   ],
   "source": [
    "# Filter out numbers less than 10\n",
    "arr[arr<=10]"
   ]
  },
  {
   "cell_type": "code",
   "execution_count": 64,
   "id": "94fe0eff",
   "metadata": {},
   "outputs": [
    {
     "name": "stdout",
     "output_type": "stream",
     "text": [
      "[[ 2  3  4]\n",
      " [ 5  6  7]\n",
      " [10 11 12]]\n"
     ]
    }
   ],
   "source": [
    "# Create an array from this list x and filter numbers that greater than 4\n",
    "x = [[2,3,4],[5,6,7],[10,11,12]]\n",
    "arr = np.array(x)\n",
    "print(arr)"
   ]
  },
  {
   "cell_type": "code",
   "execution_count": 65,
   "id": "f151cea1",
   "metadata": {},
   "outputs": [
    {
     "data": {
      "text/plain": [
       "array([ 5,  6,  7, 10, 11, 12])"
      ]
     },
     "execution_count": 65,
     "metadata": {},
     "output_type": "execute_result"
    }
   ],
   "source": [
    "arr[arr>4]"
   ]
  },
  {
   "cell_type": "code",
   "execution_count": null,
   "id": "59d6eb78",
   "metadata": {},
   "outputs": [],
   "source": []
  }
 ],
 "metadata": {
  "kernelspec": {
   "display_name": "Python 3 (ipykernel)",
   "language": "python",
   "name": "python3"
  },
  "language_info": {
   "codemirror_mode": {
    "name": "ipython",
    "version": 3
   },
   "file_extension": ".py",
   "mimetype": "text/x-python",
   "name": "python",
   "nbconvert_exporter": "python",
   "pygments_lexer": "ipython3",
   "version": "3.9.13"
  }
 },
 "nbformat": 4,
 "nbformat_minor": 5
}
